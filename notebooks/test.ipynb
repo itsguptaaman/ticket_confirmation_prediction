{
 "cells": [
  {
   "cell_type": "code",
   "execution_count": 1,
   "metadata": {},
   "outputs": [],
   "source": [
    "import pandas as pd"
   ]
  },
  {
   "cell_type": "code",
   "execution_count": 2,
   "metadata": {},
   "outputs": [],
   "source": [
    "df = pd.read_csv('dataframe.csv')\n",
    "df.drop(columns=['Unnamed: 0'], inplace=True)"
   ]
  },
  {
   "cell_type": "code",
   "execution_count": 3,
   "metadata": {},
   "outputs": [
    {
     "data": {
      "text/html": [
       "<div>\n",
       "<style scoped>\n",
       "    .dataframe tbody tr th:only-of-type {\n",
       "        vertical-align: middle;\n",
       "    }\n",
       "\n",
       "    .dataframe tbody tr th {\n",
       "        vertical-align: top;\n",
       "    }\n",
       "\n",
       "    .dataframe thead th {\n",
       "        text-align: right;\n",
       "    }\n",
       "</style>\n",
       "<table border=\"1\" class=\"dataframe\">\n",
       "  <thead>\n",
       "    <tr style=\"text-align: right;\">\n",
       "      <th></th>\n",
       "      <th>travelClass</th>\n",
       "      <th>bookingStatus</th>\n",
       "      <th>status1Day</th>\n",
       "      <th>status1Month</th>\n",
       "      <th>status1Week</th>\n",
       "      <th>status2Days</th>\n",
       "      <th>labels</th>\n",
       "    </tr>\n",
       "  </thead>\n",
       "  <tbody>\n",
       "    <tr>\n",
       "      <th>0</th>\n",
       "      <td>3A</td>\n",
       "      <td>21</td>\n",
       "      <td>28</td>\n",
       "      <td>12</td>\n",
       "      <td>14</td>\n",
       "      <td>15</td>\n",
       "      <td>0.0</td>\n",
       "    </tr>\n",
       "    <tr>\n",
       "      <th>1</th>\n",
       "      <td>3A</td>\n",
       "      <td>14</td>\n",
       "      <td>63</td>\n",
       "      <td>-1</td>\n",
       "      <td>-1</td>\n",
       "      <td>-1</td>\n",
       "      <td>0.0</td>\n",
       "    </tr>\n",
       "    <tr>\n",
       "      <th>2</th>\n",
       "      <td>3A</td>\n",
       "      <td>39</td>\n",
       "      <td>-1</td>\n",
       "      <td>-1</td>\n",
       "      <td>-1</td>\n",
       "      <td>18</td>\n",
       "      <td>0.0</td>\n",
       "    </tr>\n",
       "    <tr>\n",
       "      <th>3</th>\n",
       "      <td>3A</td>\n",
       "      <td>11</td>\n",
       "      <td>46</td>\n",
       "      <td>8</td>\n",
       "      <td>-1</td>\n",
       "      <td>-1</td>\n",
       "      <td>0.0</td>\n",
       "    </tr>\n",
       "    <tr>\n",
       "      <th>4</th>\n",
       "      <td>3A</td>\n",
       "      <td>20</td>\n",
       "      <td>-1</td>\n",
       "      <td>-1</td>\n",
       "      <td>7</td>\n",
       "      <td>-1</td>\n",
       "      <td>0.0</td>\n",
       "    </tr>\n",
       "  </tbody>\n",
       "</table>\n",
       "</div>"
      ],
      "text/plain": [
       "  travelClass  bookingStatus  status1Day  status1Month  status1Week  \\\n",
       "0          3A             21          28            12           14   \n",
       "1          3A             14          63            -1           -1   \n",
       "2          3A             39          -1            -1           -1   \n",
       "3          3A             11          46             8           -1   \n",
       "4          3A             20          -1            -1            7   \n",
       "\n",
       "   status2Days  labels  \n",
       "0           15     0.0  \n",
       "1           -1     0.0  \n",
       "2           18     0.0  \n",
       "3           -1     0.0  \n",
       "4           -1     0.0  "
      ]
     },
     "execution_count": 3,
     "metadata": {},
     "output_type": "execute_result"
    }
   ],
   "source": [
    "df.head()"
   ]
  },
  {
   "cell_type": "code",
   "execution_count": 4,
   "metadata": {},
   "outputs": [
    {
     "name": "stdout",
     "output_type": "stream",
     "text": [
      "<class 'pandas.core.frame.DataFrame'>\n",
      "RangeIndex: 53381 entries, 0 to 53380\n",
      "Data columns (total 7 columns):\n",
      " #   Column         Non-Null Count  Dtype  \n",
      "---  ------         --------------  -----  \n",
      " 0   travelClass    53381 non-null  object \n",
      " 1   bookingStatus  53381 non-null  int64  \n",
      " 2   status1Day     53381 non-null  int64  \n",
      " 3   status1Month   53381 non-null  int64  \n",
      " 4   status1Week    53381 non-null  int64  \n",
      " 5   status2Days    53381 non-null  int64  \n",
      " 6   labels         53381 non-null  float64\n",
      "dtypes: float64(1), int64(5), object(1)\n",
      "memory usage: 2.9+ MB\n"
     ]
    }
   ],
   "source": [
    "df.info()"
   ]
  },
  {
   "cell_type": "code",
   "execution_count": 6,
   "metadata": {},
   "outputs": [
    {
     "data": {
      "text/plain": [
       "travelClass\n",
       "SL    47.426987\n",
       "3A    36.546711\n",
       "2A     9.838707\n",
       "CC     3.962084\n",
       "1A     1.212042\n",
       "2S     1.013469\n",
       "Name: count, dtype: float64"
      ]
     },
     "execution_count": 6,
     "metadata": {},
     "output_type": "execute_result"
    }
   ],
   "source": [
    "# df.columns\n",
    "df[\"travelClass\"].value_counts() * 100 / len(df)"
   ]
  },
  {
   "cell_type": "code",
   "execution_count": 7,
   "metadata": {},
   "outputs": [],
   "source": [
    "dt = {\"SL\": 0, \"3A\": 1, \"2A\": 2, \"CC\": 3, \"1A\": 4, \"2S\": 5}\n",
    "df[\"travelClass\"] = df[\"travelClass\"].map(dt)"
   ]
  },
  {
   "cell_type": "code",
   "execution_count": 21,
   "metadata": {},
   "outputs": [],
   "source": []
  },
  {
   "cell_type": "code",
   "execution_count": 8,
   "metadata": {},
   "outputs": [],
   "source": [
    "# Split df into features and target\n",
    "X = df.drop(['labels', 'travelClass'], axis=1)  # Drop the original travelClass\n",
    "y = df['labels']"
   ]
  },
  {
   "cell_type": "code",
   "execution_count": 9,
   "metadata": {},
   "outputs": [],
   "source": [
    "from sklearn.model_selection import train_test_split\n",
    "\n",
    "# Split into training and testing sets\n",
    "X_train, X_test, y_train, y_test = train_test_split(X, y, test_size=0.2, random_state=100)\n"
   ]
  },
  {
   "cell_type": "code",
   "execution_count": 10,
   "metadata": {},
   "outputs": [],
   "source": [
    "# # use standard scaler to scale the features\n",
    "# from sklearn.preprocessing import StandardScaler\n",
    "\n",
    "# scaler = StandardScaler()\n",
    "# X_train = scaler.fit_transform(X_train)\n",
    "# X_test = scaler.transform(X_test)\n"
   ]
  },
  {
   "cell_type": "code",
   "execution_count": 11,
   "metadata": {},
   "outputs": [],
   "source": [
    "# Initialize and train the model\n",
    "from sklearn.ensemble import RandomForestClassifier\n",
    "from sklearn.naive_bayes import GaussianNB\n",
    "from sklearn.svm import SVC\n",
    "from sklearn.metrics import accuracy_score, precision_score, recall_score, f1_score"
   ]
  },
  {
   "cell_type": "code",
   "execution_count": 12,
   "metadata": {},
   "outputs": [
    {
     "data": {
      "text/plain": [
       "0.9831397527163732"
      ]
     },
     "execution_count": 12,
     "metadata": {},
     "output_type": "execute_result"
    }
   ],
   "source": [
    "model = RandomForestClassifier(random_state=100, oob_score=True, n_estimators=25)\n",
    "model.fit(X_train, y_train)\n",
    "model.score(X_train, y_train)"
   ]
  },
  {
   "cell_type": "code",
   "execution_count": 13,
   "metadata": {},
   "outputs": [
    {
     "name": "stdout",
     "output_type": "stream",
     "text": [
      "Accuracy: 0.9571040554462864\n",
      "Precision: 0.8796046720575023\n",
      "Recall: 0.7513430544896393\n",
      "F1 Score: 0.8104304635761589\n"
     ]
    }
   ],
   "source": [
    "# Predict on the test set\n",
    "predictions = model.predict(X_test)\n",
    "\n",
    "# Evaluate the model\n",
    "print(f'Accuracy: {accuracy_score(y_test, predictions)}')\n",
    "print(f'Precision: {precision_score(y_test, predictions)}')\n",
    "print(f'Recall: {recall_score(y_test, predictions)}')\n",
    "print(f'F1 Score: {f1_score(y_test, predictions)}')\n"
   ]
  },
  {
   "cell_type": "code",
   "execution_count": 23,
   "metadata": {},
   "outputs": [],
   "source": [
    "def predict_new_data_point(model, new_data_point, dt):\n",
    "    # Map the travelClass value\n",
    "    new_data_point[\"travelClass\"] = new_data_point[\"travelClass\"].map(dt)\n",
    "    \n",
    "    # Ensure the new data point has the same feature columns as the training data\n",
    "    new_data_point = new_data_point.drop(columns=['travelClass'])\n",
    "    \n",
    "    # I want prediction probabilities\n",
    "    precision_score = model.predict_proba(new_data_point)\n",
    "    \n",
    "    predict = model.predict(new_data_point)\n",
    "\n",
    "    return predict, precision_score"
   ]
  },
  {
   "cell_type": "code",
   "execution_count": 25,
   "metadata": {},
   "outputs": [
    {
     "data": {
      "text/plain": [
       "(array([1.]), array([[0.02109629, 0.97890371]]))"
      ]
     },
     "execution_count": 25,
     "metadata": {},
     "output_type": "execute_result"
    }
   ],
   "source": [
    "# Define the new data point\n",
    "new_data_point = pd.DataFrame([['SL',16,-1,-1,-1,-1]], \n",
    "                              columns=['travelClass', 'bookingStatus', 'status1Day', 'status1Month', 'status1Week', 'status2Days'])\n",
    "\n",
    "predict_new_data_point(model, new_data_point, dt)"
   ]
  },
  {
   "cell_type": "code",
   "execution_count": 26,
   "metadata": {},
   "outputs": [],
   "source": [
    "import pickle, os\n",
    "\n",
    "model_path = os.path.join(os.getcwd() + \"/models\")\n",
    "os.makedirs(model_path, exist_ok=True)\n",
    "\n",
    "model_dt = {\"model\": model, \"dt\": dt}\n",
    "pickle.dump(model_dt, open(os.path.join(model_path, \"models.pkl\"), 'wb'))"
   ]
  },
  {
   "cell_type": "code",
   "execution_count": null,
   "metadata": {},
   "outputs": [],
   "source": []
  }
 ],
 "metadata": {
  "kernelspec": {
   "display_name": "default",
   "language": "python",
   "name": "python3"
  },
  "language_info": {
   "codemirror_mode": {
    "name": "ipython",
    "version": 3
   },
   "file_extension": ".py",
   "mimetype": "text/x-python",
   "name": "python",
   "nbconvert_exporter": "python",
   "pygments_lexer": "ipython3",
   "version": "3.10.14"
  }
 },
 "nbformat": 4,
 "nbformat_minor": 2
}
